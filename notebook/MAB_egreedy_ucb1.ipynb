{
 "cells": [
  {
   "cell_type": "markdown",
   "source": [
    "In this notebook, we,\n",
    "\n",
    "1. Create a basic stochastic Multi-Armed Bandit (MAB) environment;\n",
    "2. Create a epsilon-greedy player and an adaptive epsilon-greedy player;\n",
    "3. Simuate the two party two-party game between the environment and a MAB player.\n",
    "\n"
   ],
   "metadata": {}
  },
  {
   "cell_type": "code",
   "execution_count": 1,
   "source": [
    "import numpy as np\n",
    "class MultiArmedBanditEnvironment:\n",
    "    \"\"\" Class for the multi-armed bandit environment.\n",
    "    \"\"\"\n",
    "\n",
    "    def __init__(self, arm_num=3, arm_type='stochastic-normal') -> None:\n",
    "        self._arms_mean_reward = [0.2 + 0.5 * i for i in range(arm_num)]\n",
    "        self._arm_type = arm_type\n",
    "\n",
    "    def generate_reward(self, played_arm)-> float:\n",
    "        \"\"\" Generate reward if the input arm is played.\n",
    "        \"\"\"\n",
    "        assert played_arm in range(len(self._arms_mean_reward)), 'Arm does not exist.'\n",
    "        if 'stochastic' in self._arm_type and 'normal' in self._arm_type:\n",
    "            return np.random.normal(self._arms_mean_reward[played_arm], 0.5 , 1)\n",
    "        else:\n",
    "            NotImplementedError"
   ],
   "outputs": [],
   "metadata": {}
  },
  {
   "cell_type": "code",
   "execution_count": 2,
   "source": [
    "class MultiArmedBanditPlayer:\n",
    "    \"\"\" Class for the multi-armed bandit player/algorithm\n",
    "    \"\"\"\n",
    "\n",
    "    def __init__(self, arm_num=3, epsilon=None, total_budget=10):\n",
    "        # this is needed in general\n",
    "        self._arm_num = arm_num\n",
    "        self._arms_mean_reward_estimate = [0.1] * arm_num\n",
    "        self._arms_times_played = [0] * arm_num\n",
    "        # this is needed for epsilon-style algorithm\n",
    "        self._epsilon = epsilon\n",
    "        self._total_budget = total_budget\n",
    "        self._total_budget_used = 0.0\n",
    "    \n",
    "    def act(self) -> int:\n",
    "        \"\"\" Pull and return an arm. This is the place you implement your \n",
    "        arm selection strategy.\n",
    "        \"\"\"\n",
    "        NotImplementedError \n",
    "\n",
    "    def learn(self, arm, reward):\n",
    "        \"\"\" Update your model. This is the place where you (the player/algorithm)\n",
    "        digest the feedback received.\n",
    "        \"\"\"\n",
    "        NotImplementedError\n",
    "\n",
    "    def is_budget_left(self):\n",
    "        return True if (self._total_budget - self._total_budget_used)  > 0 else False\n",
    "\n",
    "\n",
    "class EpsilonGreedyPlayer(MultiArmedBanditPlayer):\n",
    "    \"\"\"Class for the epsilon greedy player.\n",
    "    \"\"\"\n",
    "\n",
    "\n",
    "\n",
    "    def act(self):\n",
    "        self._total_budget_used += 1.0\n",
    "        eps = np.random.uniform(0, 1, 1)\n",
    "        if eps < self._epsilon:\n",
    "            # random exploration\n",
    "            return np.random.randint(self._arm_num)\n",
    "        else:\n",
    "            # being greedy based on the empirical mean, break tie randomly\n",
    "            arm_reward = np.array(self._arms_mean_reward_estimate)\n",
    "            best_arms = np.flatnonzero(arm_reward == arm_reward.max())\n",
    "            return np.random.choice(best_arms)\n",
    "\n",
    "    def learn(self, arm, reward):\n",
    "        # update the empirical reward and the number of times the arm is played\n",
    "        self._arms_mean_reward_estimate[arm] = self._arms_mean_reward_estimate[arm] + \\\n",
    "            (reward - self._arms_mean_reward_estimate[arm]) / (self._arms_times_played[arm] + 1)\n",
    "        # note this is equivent to the following more straightforward equation\n",
    "        # self._arms_mean_reward_estimate[arm] = (self._arms_mean_reward_estimate[arm] * self._arms_times_played[arm]\n",
    "        #     + reward)/ (self._arms_times_played[arm] + 1)\n",
    "        self._arms_times_played[arm] += 1\n",
    "\n",
    "\n",
    "class AdaptiveEpsilonGreedyPlayer(EpsilonGreedyPlayer):\n",
    "\n",
    "\n",
    "    def __init__(self, arm_num=3, epsilon=0, total_budget=10):\n",
    "        super().__init__(arm_num, epsilon, total_budget)\n",
    "        self._init_epsilon = epsilon\n",
    "\n",
    "    def learn(self, arm, reward):\n",
    "        super().learn(arm, reward)\n",
    "        self._epsilon = self._init_epsilon/np.sqrt(self._total_budget_used)\n",
    "\n",
    "\n",
    "class UCB1Player(EpsilonGreedyPlayer):\n",
    "\n",
    "\n",
    "    def __init__(self, arm_num=3, epsilon=0, total_budget=10):\n",
    "        super().__init__(arm_num, epsilon, total_budget)\n",
    "        # initial values for CB\n",
    "        self._arms_CB = [1.0] * arm_num\n",
    "\n",
    "    def act(self):\n",
    "        for i in range(self._arm_num):\n",
    "            if self._arms_times_played[i] == 0:\n",
    "                return i\n",
    "        self._total_budget_used += 1.0\n",
    "        arms_UCB = np.array([self._arms_mean_reward_estimate[i] + self._arms_CB[i] for i in range(self._arm_num)])\n",
    "        best_arms = np.flatnonzero(arms_UCB == arms_UCB.max())\n",
    "        return np.random.choice(best_arms)\n",
    "\n",
    "    def learn(self, arm, reward):\n",
    "        super().learn(arm, reward)\n",
    "        # update CB\n",
    "        self._arms_CB[arm] = np.sqrt(2*np.log(self._total_budget)/self._arms_times_played[arm])\n",
    "\n",
    "    "
   ],
   "outputs": [],
   "metadata": {}
  },
  {
   "cell_type": "code",
   "execution_count": 3,
   "source": [
    "# Simulate the game between the environment and the player\n",
    "total_budget = 500\n",
    "arm_num = 5\n",
    "mab_env = MultiArmedBanditEnvironment(arm_num=arm_num)\n",
    "greedy_player = EpsilonGreedyPlayer(arm_num=arm_num, epsilon=0.0, total_budget=total_budget)\n",
    "greedy_player05 = EpsilonGreedyPlayer(arm_num=arm_num, epsilon=0.5, total_budget=total_budget)\n",
    "greedy_player01 = EpsilonGreedyPlayer(arm_num=arm_num, epsilon=0.1, total_budget=total_budget)\n",
    "greedy_player001 = EpsilonGreedyPlayer(arm_num=arm_num, epsilon=0.001, total_budget=total_budget)\n",
    "adaptive_greedy = AdaptiveEpsilonGreedyPlayer(arm_num=arm_num, epsilon=1.0, total_budget=total_budget)\n",
    "ucb1 = UCB1Player(arm_num=arm_num, epsilon=1.0, total_budget=total_budget)\n",
    "players = {\"greedy_player\": greedy_player,\n",
    "\"greedy_player05\": greedy_player05,\n",
    "\"greedy_player01\": greedy_player01,\n",
    "\"greedy_player001\": greedy_player001,\n",
    "\"adaptive_greedy\": adaptive_greedy,\n",
    "\"ucb1\": ucb1,\n",
    "}\n",
    "\n",
    "players_reward = {}\n",
    "for k, mab_player in players.items():\n",
    "    player_reward = []\n",
    "    budget_left = True\n",
    "    counter = 0\n",
    "    while budget_left:\n",
    "        # the player select an arm\n",
    "        arm_pulled = mab_player.act()\n",
    "        # the environment gives the reward\n",
    "        reward = mab_env.generate_reward(arm_pulled)\n",
    "        # the player learn\n",
    "        mab_player.learn(arm_pulled, reward)\n",
    "        player_reward.append(reward)\n",
    "        # print(arm_pulled, reward)\n",
    "        budget_left = mab_player.is_budget_left()\n",
    "        # print(budget_left)\n",
    "        counter +=1\n",
    "    players_reward[k] = player_reward\n",
    "\n",
    "    "
   ],
   "outputs": [
    {
     "output_type": "stream",
     "name": "stderr",
     "text": [
      "/var/folders/9z/yw_pb4hs1r3481yq2cszk6s97zvj_s/T/ipykernel_77355/3364749937.py:45: VisibleDeprecationWarning: Creating an ndarray from ragged nested sequences (which is a list-or-tuple of lists-or-tuples-or ndarrays with different lengths or shapes) is deprecated. If you meant to do this, you must specify 'dtype=object' when creating the ndarray.\n",
      "  arm_reward = np.array(self._arms_mean_reward_estimate)\n"
     ]
    }
   ],
   "metadata": {}
  },
  {
   "cell_type": "code",
   "execution_count": 4,
   "source": [
    "# plot\n",
    "import matplotlib.pyplot as plt\n",
    "import numpy as np\n",
    "for k, player_reward in players_reward.items():\n",
    "    player_progressive_avg_reward = [sum(player_reward[:i])/i for i in range(1, len(player_reward)+1)]\n",
    "    plt.xlabel('Number of iterations')\n",
    "    plt.ylabel('Average Reward')\n",
    "    plt.plot(range(len(player_reward)), player_progressive_avg_reward, label=k)\n",
    "    plt.legend()"
   ],
   "outputs": [
    {
     "output_type": "display_data",
     "data": {
      "text/plain": [
       "<Figure size 432x288 with 1 Axes>"
      ],
      "image/png": "[encoded data removed]"
     },
     "metadata": {
      "needs_background": "light"
     }
    }
   ],
   "metadata": {}
  },
  {
   "cell_type": "markdown",
   "source": [
    "# Obervations\n",
    "- Pure greedy is sensitive to the initial values of each arm\n",
    "- Epsilon-greedy is sentitive to `epsilon` and how to set `epsilon` is non-trivial\n",
    "- Adaptive-greedy seems a robust alternative of epsilon-greedy"
   ],
   "metadata": {}
  }
 ],
 "metadata": {
  "orig_nbformat": 4,
  "language_info": {
   "name": "python",
   "version": "3.8.10",
   "mimetype": "text/x-python",
   "codemirror_mode": {
    "name": "ipython",
    "version": 3
   },
   "pygments_lexer": "ipython3",
   "nbconvert_exporter": "python",
   "file_extension": ".py"
  },
  "kernelspec": {
   "name": "python3",
   "display_name": "Python 3.8.10 64-bit ('myflaml': conda)"
  },
  "interpreter": {
   "hash": "6ad2839fdf071d8f2e11d9919d65b5dc1c8e65ac194b1a26b16463f9251c1bb7"
  }
 },
 "nbformat": 4,
 "nbformat_minor": 2
}